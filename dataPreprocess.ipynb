{
 "cells": [
  {
   "cell_type": "code",
   "execution_count": 90,
   "metadata": {},
   "outputs": [],
   "source": [
    "import pandas as pd\n",
    "import json"
   ]
  },
  {
   "cell_type": "code",
   "execution_count": 93,
   "metadata": {},
   "outputs": [],
   "source": [
    "file = open(\"tweets_DM.json\", 'r', encoding='utf-8')\n",
    "data = []\n",
    "for line in file.readlines():\n",
    "    dic = json.loads(line)\n",
    "    data.append(dic)\n"
   ]
  },
  {
   "cell_type": "code",
   "execution_count": 94,
   "metadata": {},
   "outputs": [
    {
     "name": "stderr",
     "output_type": "stream",
     "text": [
      "1867536it [00:04, 461623.13it/s]\n"
     ]
    }
   ],
   "source": [
    "import csv\n",
    "from tqdm import tqdm\n",
    "train = []\n",
    "test = []\n",
    "with open('data_identification.csv', newline='') as f:\n",
    "    rows = csv.reader(f)\n",
    "    for row in tqdm(rows): \n",
    "        if row[1]=='train':\n",
    "            train.append(row[0])\n",
    "        elif row[1] == 'test':\n",
    "            test.append(row[0])"
   ]
  },
  {
   "cell_type": "code",
   "execution_count": 95,
   "metadata": {},
   "outputs": [
    {
     "data": {
      "text/plain": [
       "1455563"
      ]
     },
     "execution_count": 95,
     "metadata": {},
     "output_type": "execute_result"
    }
   ],
   "source": [
    "emotion_df = pd.read_csv('emotion.csv')\n",
    "emotion_df = emotion_df.set_index('tweet_id').T.to_dict()\n",
    "len(emotion_df)"
   ]
  },
  {
   "cell_type": "code",
   "execution_count": null,
   "metadata": {},
   "outputs": [],
   "source": [
    "train_data_df = pd.DataFrame(columns = ['_score','hashtags','tweet_id','text','label'])\n",
    "test_data_df = pd.DataFrame(columns = ['_score','hashtags','tweet_id','text'])\n",
    "\n",
    "for i  in  range(len(data)):\n",
    "    if data[i]['_source']['tweet']['tweet_id'] in train:\n",
    "        tmp_df = {'_score': data[i]['_score'], 'hashtags': data[i]['_source']['tweet']['hashtags'], 'tweet_id': data[i]['_source']['tweet']['tweet_id'],'text':data[i]['_source']['tweet']['text'],'label':emotion_df[data[i]['_source']['tweet']['tweet_id']]['emotion']}\n",
    "        train_data_df = train_data_df.append(tmp_df,ignore_index=True)\n",
    "    else:\n",
    "        tmp_df = {'_score': data[i]['_score'], 'hashtags': data[i]['_source']['tweet']['hashtags'], 'tweet_id': data[i]['_source']['tweet']['tweet_id'],'text':data[i]['_source']['tweet']['text']}\n",
    "        test_data_df = test_data_df.append(tmp_df,ignore_index=True)"
   ]
  },
  {
   "cell_type": "code",
   "execution_count": null,
   "metadata": {},
   "outputs": [],
   "source": [
    "train_data_df.to_pickle('HW_train.pkl')\n",
    "test_data_df.to_pickle('HW_test.pkl')"
   ]
  }
 ],
 "metadata": {
  "interpreter": {
   "hash": "6f615a7e677263f60758acb4d9f920387960f155e9b10b8f59ceff7aec5ab385"
  },
  "kernelspec": {
   "display_name": "Python 3.8.5 64-bit ('base': conda)",
   "language": "python",
   "name": "python3"
  },
  "language_info": {
   "codemirror_mode": {
    "name": "ipython",
    "version": 3
   },
   "file_extension": ".py",
   "mimetype": "text/x-python",
   "name": "python",
   "nbconvert_exporter": "python",
   "pygments_lexer": "ipython3",
   "version": "3.8.5"
  },
  "orig_nbformat": 4
 },
 "nbformat": 4,
 "nbformat_minor": 2
}
